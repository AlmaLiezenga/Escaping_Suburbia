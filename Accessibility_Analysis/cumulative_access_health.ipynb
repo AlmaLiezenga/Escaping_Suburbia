{
 "cells": [
  {
   "cell_type": "code",
   "execution_count": 1,
   "id": "1f880329",
   "metadata": {},
   "outputs": [
    {
     "name": "stderr",
     "output_type": "stream",
     "text": [
      "/opt/anaconda3/envs/Thesis2/lib/python3.8/site-packages/geopandas/_compat.py:111: UserWarning: The Shapely GEOS version (3.10.2-CAPI-1.16.0) is incompatible with the GEOS version PyGEOS was compiled with (3.10.1-CAPI-1.16.0). Conversions between both will be slow.\n",
      "  warnings.warn(\n"
     ]
    }
   ],
   "source": [
    "import pandas as pd\n",
    "import geopandas as gpd \n",
    "import numpy as np \n",
    "import math "
   ]
  },
  {
   "cell_type": "code",
   "execution_count": 44,
   "id": "665fa0a7",
   "metadata": {},
   "outputs": [],
   "source": [
    "#jobs\n",
    "path = '/Volumes/Almadisk1TB/Thesis/structured_dir/src/otp/access/pt/'\n",
    "jobs_transit_walk =  pd.read_csv(path + 'traveltimes/traveltimes_health_transit_walk_A.csv')\n",
    "jobs_transit_walk_mt = pd.read_csv(path + 'traveltimes/traveltimes_health_transit_walk_mt_A.csv')\n",
    "\n",
    "path = '/Volumes/Almadisk1TB/Thesis/structured_dir/src/otp/access/car_cycle_walk/'\n",
    "jobs_cars =  pd.read_csv(path + 'traveltimes/traveltimes_health_car_A.csv')\n",
    "jobs_mt = pd.read_csv(path + 'traveltimes/traveltimes_health_mt_A.csv')\n"
   ]
  },
  {
   "cell_type": "code",
   "execution_count": 62,
   "id": "4f4337bc",
   "metadata": {},
   "outputs": [],
   "source": [
    "time=1800"
   ]
  },
  {
   "cell_type": "code",
   "execution_count": 63,
   "id": "0e63d154",
   "metadata": {},
   "outputs": [],
   "source": [
    "#car\n",
    "geo_id_list = []\n",
    "jobs_1hr_car_list = []\n",
    "\n",
    "for geo_id in jobs_cars.GEO_ID_origin.unique():\n",
    "    jobs = jobs_cars.loc[jobs_cars['GEO_ID_origin'] == geo_id]\n",
    "    jobs_1hr = 0\n",
    "    geo_id_list.append(geo_id)\n",
    "    for i, r in jobs.iterrows():\n",
    "        if r['Walk: Total Travel Time (seconds)'] < time: \n",
    "            jobs_1hr += r['Number of healthcare points']\n",
    "    jobs_1hr_car_list.append(jobs_1hr)"
   ]
  },
  {
   "cell_type": "code",
   "execution_count": 64,
   "id": "5cdc5f3f",
   "metadata": {},
   "outputs": [],
   "source": [
    "#car dataframe \n",
    "jobs_1hr_car = pd.DataFrame()\n",
    "jobs_1hr_car['GEOID20'] = geo_id_list\n",
    "jobs_1hr_car['Car'] = jobs_1hr_car_list"
   ]
  },
  {
   "cell_type": "code",
   "execution_count": 65,
   "id": "2d750299",
   "metadata": {},
   "outputs": [],
   "source": [
    "#transit\n",
    "geo_id_list = []\n",
    "jobs_1hr_transit_list = []\n",
    "\n",
    "for geo_id in jobs_transit_walk.GEO_ID_origin.unique():\n",
    "    jobs = jobs_transit_walk.loc[jobs_transit_walk['GEO_ID_origin'] == geo_id]\n",
    "    jobs_1hr = 0\n",
    "    geo_id_list.append(geo_id)\n",
    "    for i, r in jobs.iterrows():\n",
    "        if r['Travel time without a car (seconds)'] < time: \n",
    "            jobs_1hr += r['Number of healthcare points']\n",
    "    jobs_1hr_transit_list.append(jobs_1hr)"
   ]
  },
  {
   "cell_type": "code",
   "execution_count": 66,
   "id": "4987146a",
   "metadata": {},
   "outputs": [],
   "source": [
    "#transit dataframe \n",
    "jobs_1hr_transit = pd.DataFrame()\n",
    "jobs_1hr_transit['GEOID20'] = geo_id_list\n",
    "jobs_1hr_transit['Transit'] = jobs_1hr_transit_list"
   ]
  },
  {
   "cell_type": "code",
   "execution_count": 67,
   "id": "1eaa3257",
   "metadata": {},
   "outputs": [],
   "source": [
    "# microtransit\n",
    "geo_id_list = []\n",
    "jobs_1hr_mt_list = []\n",
    "\n",
    "for geo_id in jobs_mt.GEO_ID_origin.unique():\n",
    "    jobs = jobs_mt.loc[jobs_mt['GEO_ID_origin'] == geo_id]\n",
    "    jobs_1hr = 0\n",
    "    geo_id_list.append(geo_id)\n",
    "    for i, r in jobs.iterrows():\n",
    "        if r['Microtransit: Total Travel Time (seconds)'] < time: \n",
    "            jobs_1hr += r['Number of healthcare points']\n",
    "    jobs_1hr_mt_list.append(jobs_1hr)"
   ]
  },
  {
   "cell_type": "code",
   "execution_count": 68,
   "id": "766f1355",
   "metadata": {},
   "outputs": [],
   "source": [
    "#transit dataframe \n",
    "jobs_1hr_mt = pd.DataFrame()\n",
    "jobs_1hr_mt['GEOID20'] = geo_id_list\n",
    "jobs_1hr_mt['Microtransit'] = jobs_1hr_mt_list"
   ]
  },
  {
   "cell_type": "code",
   "execution_count": 69,
   "id": "abafedf9",
   "metadata": {},
   "outputs": [],
   "source": [
    "# microtransit\n",
    "geo_id_list = []\n",
    "jobs_1hr_mt_ww_list = []\n",
    "\n",
    "for geo_id in jobs_mt.GEO_ID_origin.unique():\n",
    "    jobs = jobs_mt.loc[jobs_mt['GEO_ID_origin'] == geo_id]\n",
    "    jobs_1hr = 0\n",
    "    geo_id_list.append(geo_id)\n",
    "    for i, r in jobs.iterrows():\n",
    "        if r['Microtransit: Total Travel Time (seconds, including wait time)'] < time: \n",
    "            jobs_1hr += r['Number of healthcare points']\n",
    "    jobs_1hr_mt_ww_list.append(jobs_1hr)"
   ]
  },
  {
   "cell_type": "code",
   "execution_count": 70,
   "id": "f30db0d6",
   "metadata": {},
   "outputs": [],
   "source": [
    "#transit dataframe \n",
    "jobs_1hr_mt_ww = pd.DataFrame()\n",
    "jobs_1hr_mt_ww['GEOID20'] = geo_id_list\n",
    "jobs_1hr_mt_ww['Microtransit with wait time'] = jobs_1hr_mt_ww_list"
   ]
  },
  {
   "cell_type": "code",
   "execution_count": 71,
   "id": "c39aa19b",
   "metadata": {},
   "outputs": [],
   "source": [
    "# microtransit and public transit \n",
    "geo_id_list = []\n",
    "jobs_1hr_pt_walk_mt_list = []\n",
    "\n",
    "for geo_id in jobs_transit_walk_mt.GEO_ID_origin.unique():\n",
    "    jobs = jobs_transit_walk_mt.loc[jobs_transit_walk_mt['GEO_ID_origin'] == geo_id]\n",
    "    jobs_1hr = 0\n",
    "    geo_id_list.append(geo_id)\n",
    "    for i, r in jobs.iterrows():\n",
    "        if r['Travel time without a car, with mt (seconds)'] < time: \n",
    "            jobs_1hr += r['Number of healthcare points']\n",
    "    jobs_1hr_pt_walk_mt_list.append(jobs_1hr)"
   ]
  },
  {
   "cell_type": "code",
   "execution_count": 72,
   "id": "d789fe26",
   "metadata": {},
   "outputs": [],
   "source": [
    "#transit dataframe \n",
    "jobs_1hr_pt_walk_mt = pd.DataFrame()\n",
    "jobs_1hr_pt_walk_mt['GEOID20'] = geo_id_list\n",
    "jobs_1hr_pt_walk_mt['Microtransit or other transit'] = jobs_1hr_pt_walk_mt_list"
   ]
  },
  {
   "cell_type": "code",
   "execution_count": 73,
   "id": "e95a8c28",
   "metadata": {},
   "outputs": [],
   "source": [
    "# microtransit and public transit \n",
    "geo_id_list = []\n",
    "jobs_1hr_pt_walk_mt_list = []\n",
    "\n",
    "for geo_id in jobs_transit_walk_mt.GEO_ID_origin.unique():\n",
    "    jobs = jobs_transit_walk_mt.loc[jobs_transit_walk_mt['GEO_ID_origin'] == geo_id]\n",
    "    jobs_1hr = 0\n",
    "    geo_id_list.append(geo_id)\n",
    "    for i, r in jobs.iterrows():\n",
    "        if r['Travel time without a car, with mt, with wait time (seconds)'] < time: \n",
    "            jobs_1hr += r['Number of healthcare points']\n",
    "    jobs_1hr_pt_walk_mt_list.append(jobs_1hr)"
   ]
  },
  {
   "cell_type": "code",
   "execution_count": 74,
   "id": "00bc5159",
   "metadata": {},
   "outputs": [],
   "source": [
    "#transit dataframe \n",
    "jobs_1hr_pt_walk_mt_ww = pd.DataFrame()\n",
    "jobs_1hr_pt_walk_mt_ww['GEOID20'] = geo_id_list\n",
    "jobs_1hr_pt_walk_mt_ww['Microtransit or other transit, with wait time'] = jobs_1hr_pt_walk_mt_list"
   ]
  },
  {
   "cell_type": "code",
   "execution_count": 75,
   "id": "472abc05",
   "metadata": {},
   "outputs": [],
   "source": [
    "jobs_1hr = pd.merge(jobs_1hr_pt_walk_mt, jobs_1hr_car,  on='GEOID20')\n",
    "jobs_1hr = pd.merge(jobs_1hr, jobs_1hr_mt,  on='GEOID20')\n",
    "jobs_1hr = pd.merge(jobs_1hr, jobs_1hr_transit,  on='GEOID20')\n",
    "jobs_1hr = pd.merge(jobs_1hr, jobs_1hr_pt_walk_mt_ww,  on='GEOID20')\n",
    "jobs_1hr = pd.merge(jobs_1hr, jobs_1hr_mt_ww,  on='GEOID20')"
   ]
  },
  {
   "cell_type": "code",
   "execution_count": 76,
   "id": "6a2efe15",
   "metadata": {},
   "outputs": [],
   "source": [
    "jobs_1hr['Microtransit or other transit'] = jobs_1hr['Microtransit or other transit'].astype(int)\n",
    "jobs_1hr['Microtransit'] = jobs_1hr['Microtransit'].astype(int)\n",
    "jobs_1hr['Car'] = jobs_1hr['Car'].astype(int)\n",
    "jobs_1hr['Transit'] = jobs_1hr['Transit'].astype(int)\n",
    "jobs_1hr['Microtransit with wait time'] = jobs_1hr['Microtransit with wait time'].astype(int)\n",
    "jobs_1hr['Microtransit or other transit, with wait time'] = jobs_1hr['Microtransit or other transit, with wait time'].astype(int)"
   ]
  },
  {
   "cell_type": "code",
   "execution_count": 77,
   "id": "33b55c25",
   "metadata": {},
   "outputs": [
    {
     "data": {
      "text/html": [
       "<div>\n",
       "<style scoped>\n",
       "    .dataframe tbody tr th:only-of-type {\n",
       "        vertical-align: middle;\n",
       "    }\n",
       "\n",
       "    .dataframe tbody tr th {\n",
       "        vertical-align: top;\n",
       "    }\n",
       "\n",
       "    .dataframe thead th {\n",
       "        text-align: right;\n",
       "    }\n",
       "</style>\n",
       "<table border=\"1\" class=\"dataframe\">\n",
       "  <thead>\n",
       "    <tr style=\"text-align: right;\">\n",
       "      <th></th>\n",
       "      <th>GEOID20</th>\n",
       "      <th>Microtransit or other transit</th>\n",
       "      <th>Car</th>\n",
       "      <th>Microtransit</th>\n",
       "      <th>Transit</th>\n",
       "      <th>Microtransit or other transit, with wait time</th>\n",
       "      <th>Microtransit with wait time</th>\n",
       "    </tr>\n",
       "  </thead>\n",
       "  <tbody>\n",
       "    <tr>\n",
       "      <th>0</th>\n",
       "      <td>270190911007006</td>\n",
       "      <td>4</td>\n",
       "      <td>4</td>\n",
       "      <td>4</td>\n",
       "      <td>0</td>\n",
       "      <td>0</td>\n",
       "      <td>0</td>\n",
       "    </tr>\n",
       "    <tr>\n",
       "      <th>1</th>\n",
       "      <td>270530260281007</td>\n",
       "      <td>4</td>\n",
       "      <td>15</td>\n",
       "      <td>4</td>\n",
       "      <td>0</td>\n",
       "      <td>0</td>\n",
       "      <td>0</td>\n",
       "    </tr>\n",
       "    <tr>\n",
       "      <th>2</th>\n",
       "      <td>270190908021012</td>\n",
       "      <td>4</td>\n",
       "      <td>4</td>\n",
       "      <td>4</td>\n",
       "      <td>0</td>\n",
       "      <td>1</td>\n",
       "      <td>1</td>\n",
       "    </tr>\n",
       "    <tr>\n",
       "      <th>3</th>\n",
       "      <td>270190908021011</td>\n",
       "      <td>4</td>\n",
       "      <td>4</td>\n",
       "      <td>4</td>\n",
       "      <td>0</td>\n",
       "      <td>1</td>\n",
       "      <td>1</td>\n",
       "    </tr>\n",
       "    <tr>\n",
       "      <th>4</th>\n",
       "      <td>270190904014005</td>\n",
       "      <td>4</td>\n",
       "      <td>4</td>\n",
       "      <td>4</td>\n",
       "      <td>0</td>\n",
       "      <td>0</td>\n",
       "      <td>0</td>\n",
       "    </tr>\n",
       "    <tr>\n",
       "      <th>...</th>\n",
       "      <td>...</td>\n",
       "      <td>...</td>\n",
       "      <td>...</td>\n",
       "      <td>...</td>\n",
       "      <td>...</td>\n",
       "      <td>...</td>\n",
       "      <td>...</td>\n",
       "    </tr>\n",
       "    <tr>\n",
       "      <th>1271</th>\n",
       "      <td>270190904011014</td>\n",
       "      <td>3</td>\n",
       "      <td>3</td>\n",
       "      <td>3</td>\n",
       "      <td>0</td>\n",
       "      <td>0</td>\n",
       "      <td>0</td>\n",
       "    </tr>\n",
       "    <tr>\n",
       "      <th>1272</th>\n",
       "      <td>270530260261006</td>\n",
       "      <td>4</td>\n",
       "      <td>20</td>\n",
       "      <td>4</td>\n",
       "      <td>0</td>\n",
       "      <td>1</td>\n",
       "      <td>1</td>\n",
       "    </tr>\n",
       "    <tr>\n",
       "      <th>1273</th>\n",
       "      <td>270530260153014</td>\n",
       "      <td>4</td>\n",
       "      <td>32</td>\n",
       "      <td>4</td>\n",
       "      <td>0</td>\n",
       "      <td>2</td>\n",
       "      <td>2</td>\n",
       "    </tr>\n",
       "    <tr>\n",
       "      <th>1274</th>\n",
       "      <td>270190907023009</td>\n",
       "      <td>4</td>\n",
       "      <td>14</td>\n",
       "      <td>4</td>\n",
       "      <td>0</td>\n",
       "      <td>1</td>\n",
       "      <td>1</td>\n",
       "    </tr>\n",
       "    <tr>\n",
       "      <th>1275</th>\n",
       "      <td>270190907042000</td>\n",
       "      <td>4</td>\n",
       "      <td>23</td>\n",
       "      <td>4</td>\n",
       "      <td>1</td>\n",
       "      <td>3</td>\n",
       "      <td>3</td>\n",
       "    </tr>\n",
       "  </tbody>\n",
       "</table>\n",
       "<p>1276 rows × 7 columns</p>\n",
       "</div>"
      ],
      "text/plain": [
       "              GEOID20  Microtransit or other transit  Car  Microtransit  \\\n",
       "0     270190911007006                              4    4             4   \n",
       "1     270530260281007                              4   15             4   \n",
       "2     270190908021012                              4    4             4   \n",
       "3     270190908021011                              4    4             4   \n",
       "4     270190904014005                              4    4             4   \n",
       "...               ...                            ...  ...           ...   \n",
       "1271  270190904011014                              3    3             3   \n",
       "1272  270530260261006                              4   20             4   \n",
       "1273  270530260153014                              4   32             4   \n",
       "1274  270190907023009                              4   14             4   \n",
       "1275  270190907042000                              4   23             4   \n",
       "\n",
       "      Transit  Microtransit or other transit, with wait time  \\\n",
       "0           0                                              0   \n",
       "1           0                                              0   \n",
       "2           0                                              1   \n",
       "3           0                                              1   \n",
       "4           0                                              0   \n",
       "...       ...                                            ...   \n",
       "1271        0                                              0   \n",
       "1272        0                                              1   \n",
       "1273        0                                              2   \n",
       "1274        0                                              1   \n",
       "1275        1                                              3   \n",
       "\n",
       "      Microtransit with wait time  \n",
       "0                               0  \n",
       "1                               0  \n",
       "2                               1  \n",
       "3                               1  \n",
       "4                               0  \n",
       "...                           ...  \n",
       "1271                            0  \n",
       "1272                            1  \n",
       "1273                            2  \n",
       "1274                            1  \n",
       "1275                            3  \n",
       "\n",
       "[1276 rows x 7 columns]"
      ]
     },
     "execution_count": 77,
     "metadata": {},
     "output_type": "execute_result"
    }
   ],
   "source": [
    "jobs_1hr"
   ]
  },
  {
   "cell_type": "code",
   "execution_count": 78,
   "id": "34145be1",
   "metadata": {},
   "outputs": [],
   "source": [
    "jobs_1hr.to_csv('/Users/almaliezenga/Documents/Thesis/structured_dir/data/processed/Access/cumulative/health_30min_A.csv')\n"
   ]
  },
  {
   "cell_type": "code",
   "execution_count": null,
   "id": "28df3922",
   "metadata": {},
   "outputs": [],
   "source": []
  },
  {
   "cell_type": "code",
   "execution_count": null,
   "id": "0800e210",
   "metadata": {},
   "outputs": [],
   "source": []
  }
 ],
 "metadata": {
  "kernelspec": {
   "display_name": "Python 3 (ipykernel)",
   "language": "python",
   "name": "python3"
  },
  "language_info": {
   "codemirror_mode": {
    "name": "ipython",
    "version": 3
   },
   "file_extension": ".py",
   "mimetype": "text/x-python",
   "name": "python",
   "nbconvert_exporter": "python",
   "pygments_lexer": "ipython3",
   "version": "3.8.13"
  }
 },
 "nbformat": 4,
 "nbformat_minor": 5
}
